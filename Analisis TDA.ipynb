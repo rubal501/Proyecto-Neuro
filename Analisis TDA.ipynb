{
 "cells": [
  {
   "cell_type": "code",
   "execution_count": 1,
   "metadata": {},
   "outputs": [],
   "source": [
    "import numpy as np\n",
    "import pandas as pd\n",
    "import gudhi as gd  \n",
    "from sklearn import manifold\n",
    "import matplotlib.pyplot as plt\n",
    "from pylab import *\n",
    "#from skbio.stats.distance import DissimilarityMatrix\n",
    "from sklearn.preprocessing import MinMaxScaler\n",
    "from sklearn.kernel_approximation import RBFSampler\n",
    "import csv\n",
    "from gudhi.representations import DiagramSelector, Clamping, Landscape, Silhouette, BettiCurve, ComplexPolynomial,\\\n",
    "  TopologicalVector, DiagramScaler, BirthPersistenceTransform,\\\n",
    "  PersistenceImage, PersistenceWeightedGaussianKernel, Entropy, \\\n",
    "  PersistenceScaleSpaceKernel, SlicedWassersteinDistance,\\\n",
    "  SlicedWassersteinKernel, PersistenceFisherKernel\n",
    "\n",
    "#esta funcion se encarga de generar las matrices de correlaciones entre neuronas de \n",
    "#red previamente entrenadada \n",
    "\n",
    "# TODO limpiar este codigo, tiene mucho hardcodeo\n",
    "#TODO vectorizar \n",
    "\n",
    "def get_points(id_exp,epoch, metodo):\n",
    "    route = \"data/experimental/experimento_\"+str(id_exp)+\"/activaciones/vectores_\"+str(metodo)+\"_epoch\"+str(epoch)+\".csv\"\n",
    "    b = [] #Lista de puntos\n",
    "    with open(route, newline='') as csvfile:\n",
    "        datos = list(csv.reader(csvfile))\n",
    "        for element in datos:\n",
    "            b.append(np.array(element,dtype='float64'))\n",
    "    return b \n",
    "\n",
    "def generate_tree(id_exp, epoch,metodo):\n",
    "    print(\"leido\")\n",
    "    #TODO Corregir este hardcodeo \n",
    "    points = get_points(id_exp,epoch,metodo)\n",
    "    skeleton  = gd.AlphaComplex(points)\n",
    "    print(\"esqueletolisto\")\n",
    "\n",
    "    cech_simplex_tree = skeleton.create_simplex_tree()\n",
    "    print(\"listo\")\n",
    "    return cech_simplex_tree\n",
    "\n",
    "\n",
    "def generate_barcode_diagram(per,route,epoch):\n",
    "    nombre = \"/content/gdrive/My Drive/MatApli2020-2/Proyectos/TDA/images/exp\"+str(experiment)+\"/bar_exp\" + str(experiment)+ \"epoch\"+str(epoch)+ \".png\"\n",
    "    gd.plot_persistence_barcode(per).figure.savefig(nombre, dpi=170)\n",
    "    gd.plot_persistence_barcode(per).figure.clf()\n",
    "    \n",
    "\n",
    "def generate_persistence_diagram(per,route,epoch):\n",
    "    nombre = \"/content/gdrive/My Drive/MatApli2020-2/Proyectos/TDA/images/exp\"+str(experiment)+\"/diagram_exp\" + str(experiment)+ \"epoch\"+str(epoch)+ \".png\"\n",
    "    gd.plot_persistence_diagram(per).figure.savefig(nombre, dpi=170)\n",
    "    gd.plot_persistence_diagram(per).figure.clf() "
   ]
  },
  {
   "cell_type": "code",
   "execution_count": null,
   "metadata": {},
   "outputs": [],
   "source": [
    "tree = generate_tree(\"experimento_1\", 1, \"alpha\" )"
   ]
  },
  {
   "cell_type": "code",
   "execution_count": null,
   "metadata": {},
   "outputs": [],
   "source": [
    "Proyecto-Neuro/data/experimental/experimento_experimento_2/activaciones/vectores_alpha_epoch1.csv\n",
    "Proyecto-Neuro/data/experimental/experimento_experimento_1/activaciones/vectores_alpha_epoch1.csv"
   ]
  }
 ],
 "metadata": {
  "kernelspec": {
   "display_name": "Python 3",
   "language": "python",
   "name": "python3"
  },
  "language_info": {
   "codemirror_mode": {
    "name": "ipython",
    "version": 3
   },
   "file_extension": ".py",
   "mimetype": "text/x-python",
   "name": "python",
   "nbconvert_exporter": "python",
   "pygments_lexer": "ipython3",
   "version": "3.8.3"
  }
 },
 "nbformat": 4,
 "nbformat_minor": 4
}
