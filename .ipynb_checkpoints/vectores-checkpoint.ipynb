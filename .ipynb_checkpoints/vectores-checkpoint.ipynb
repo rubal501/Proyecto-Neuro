{
 "cells": [
  {
   "cell_type": "code",
   "execution_count": 1,
   "metadata": {},
   "outputs": [
    {
     "data": {
      "text/html": [
       "<script>\n",
       "// Immediately-invoked-function-expression to avoid global variables.\n",
       "(function() {\n",
       "    var warning_div = document.getElementById(\"webio-warning-200340293386516241\");\n",
       "    var hide = function () {\n",
       "        var script = document.getElementById(\"webio-setup-10487660921533863108\");\n",
       "        var parent = script && script.parentElement;\n",
       "        var grandparent = parent && parent.parentElement;\n",
       "        if (grandparent) {\n",
       "            grandparent.style.display = \"none\";\n",
       "        }\n",
       "        warning_div.style.display = \"none\";\n",
       "    };\n",
       "    if (typeof Jupyter !== \"undefined\") {\n",
       "        console.log(\"WebIO detected Jupyter notebook environment.\");\n",
       "        // Jupyter notebook.\n",
       "        var extensions = (\n",
       "            Jupyter\n",
       "            && Jupyter.notebook.config.data\n",
       "            && Jupyter.notebook.config.data.load_extensions\n",
       "        );\n",
       "        if (extensions && extensions[\"webio-jupyter-notebook\"]) {\n",
       "            // Extension already loaded.\n",
       "            console.log(\"Jupyter WebIO nbextension detected; not loading ad-hoc.\");\n",
       "            hide();\n",
       "            return;\n",
       "        }\n",
       "    } else if (window.location.pathname.includes(\"/lab\")) {\n",
       "        // Guessing JupyterLa\n",
       "        console.log(\"Jupyter Lab detected; make sure the @webio/jupyter-lab-provider labextension is installed.\");\n",
       "        hide();\n",
       "        return;\n",
       "    }\n",
       "})();\n",
       "\n",
       "</script>\n",
       "<p\n",
       "    id=\"webio-warning-200340293386516241\"\n",
       "    class=\"output_text output_stderr\"\n",
       "    style=\"padding: 1em; font-weight: bold;\"\n",
       ">\n",
       "    Unable to load WebIO. Please make sure WebIO works for your Jupyter client.\n",
       "    For troubleshooting, please see <a href=\"https://juliagizmos.github.io/WebIO.jl/latest/providers/ijulia/\">\n",
       "    the WebIO/IJulia documentation</a>.\n",
       "    <!-- TODO: link to installation docs. -->\n",
       "</p>\n"
      ],
      "text/plain": [
       "HTML{String}(\"<script>\\n// Immediately-invoked-function-expression to avoid global variables.\\n(function() {\\n    var warning_div = document.getElementById(\\\"webio-warning-200340293386516241\\\");\\n    var hide = function () {\\n        var script = document.getElementById(\\\"webio-setup-10487660921533863108\\\");\\n        var parent = script && script.parentElement;\\n        var grandparent = parent && parent.parentElement;\\n        if (grandparent) {\\n            grandparent.style.display = \\\"none\\\";\\n        }\\n        warning_div.style.display = \\\"none\\\";\\n    };\\n    if (typeof Jupyter !== \\\"undefined\\\") {\\n        console.log(\\\"WebIO detected Jupyter notebook environment.\\\");\\n        // Jupyter notebook.\\n        var extensions = (\\n            Jupyter\\n            && Jupyter.notebook.config.data\\n            && Jupyter.notebook.config.data.load_extensions\\n        );\\n        if (extensions && extensions[\\\"webio-jupyter-notebook\\\"]) {\\n            // Extension already loaded.\\n            console.log(\\\"Jupyter WebIO nbextension detected; not loading ad-hoc.\\\");\\n            hide();\\n            return;\\n        }\\n    } else if (window.location.pathname.includes(\\\"/lab\\\")) {\\n        // Guessing JupyterLa\\n        console.log(\\\"Jupyter Lab detected; make sure the @webio/jupyter-lab-provider labextension is installed.\\\");\\n        hide();\\n        return;\\n    }\\n})();\\n\\n</script>\\n<p\\n    id=\\\"webio-warning-200340293386516241\\\"\\n    class=\\\"output_text output_stderr\\\"\\n    style=\\\"padding: 1em; font-weight: bold;\\\"\\n>\\n    Unable to load WebIO. Please make sure WebIO works for your Jupyter client.\\n    For troubleshooting, please see <a href=\\\"https://juliagizmos.github.io/WebIO.jl/latest/providers/ijulia/\\\">\\n    the WebIO/IJulia documentation</a>.\\n    <!-- TODO: link to installation docs. -->\\n</p>\\n\")"
      ]
     },
     "metadata": {},
     "output_type": "display_data"
    }
   ],
   "source": [
    "using Blink\n",
    "\n",
    "include(\"code/funciones_red.jl\")\n",
    "include(\"code/func_DistMat.jl\")\n",
    "include(\"code/func_experimenta.jl\")\n",
    "include(\"code/training_data.jl\")"
   ]
  },
  {
   "cell_type": "code",
   "execution_count": 2,
   "metadata": {},
   "outputs": [
    {
     "name": "stdout",
     "output_type": "stream",
     "text": [
      "Experimento terminado.\n",
      "Experimento terminado.\n",
      "Experimento terminado.\n",
      "Experimento terminado.\n",
      "Experimento terminado.\n",
      "Experimento terminado.\n",
      "Experimento terminado.\n",
      "Experimento terminado.\n",
      "Experimento terminado.\n",
      "Experimento terminado.\n"
     ]
    }
   ],
   "source": [
    "\n",
    "tamanos = [[784,30,10],[784, 50, 50, 50, 10], [784, 300, 10], [784, 12, 12, 12, 12, 12, 10]] \n",
    "\n",
    "nombres = [ \"familia_\" * string(i) for i in 1:length(tamanos) ]\n",
    "#experimento = experimento_simple(tamanos[1], 95, nombres[1], max_ejec = 60)\n",
    "#red_salvada = recuperar_red(tamanos[1], nombres[1],60)\n",
    "#experimento = experimento_preentrenado(red_salvada, \"alpha\", norm, 20, tamanos[1], 95)\n",
    "#Quiero ir calculando los pesos que voy a analizar despues\n",
    "\n",
    "for element in 1:1\n",
    "    for iter in 1:10\n",
    "        name = nombres[element]*\"experimento_\"*string(iter)\n",
    "        red_salvada = recuperar_red(tamanos[1], name,7)\n",
    "        experimento_preentrenado(red_salvada, 100, name )\n",
    "    end\n",
    "end"
   ]
  },
  {
   "cell_type": "code",
   "execution_count": 3,
   "metadata": {},
   "outputs": [
    {
     "name": "stdout",
     "output_type": "stream",
     "text": [
      "Experimento terminado.\n",
      "Experimento terminado.\n",
      "Experimento terminado.\n",
      "Experimento terminado.\n"
     ]
    }
   ],
   "source": [
    "for element in 1:length(tamanos)\n",
    "    red_salvada = recuperar_red(tamanos[element], nombres[element],epochs[element])\n",
    "    experimento_preentrenado(red_salvada, 100, nombres[element] )\n",
    "end"
   ]
  },
  {
   "cell_type": "code",
   "execution_count": 7,
   "metadata": {},
   "outputs": [
    {
     "name": "stdout",
     "output_type": "stream",
     "text": [
      "Experimento terminado.\n"
     ]
    }
   ],
   "source": [
    "epochs = [16,16,32,51,44,19,17,34,20,24]\n",
    "for element in 4:4\n",
    "    for iter in 1:10\n",
    "        name = nombres[element]*\"experimento_\"*string(iter)\n",
    "        red_salvada = recuperar_red(tamanos[3], name,epochs[iter])\n",
    "        experimento_preentrenado(red_salvada, 100, name )\n",
    "    end\n",
    "end"
   ]
  },
  {
   "cell_type": "code",
   "execution_count": null,
   "metadata": {},
   "outputs": [],
   "source": []
  }
 ],
 "metadata": {
  "kernelspec": {
   "display_name": "Julia 1.4.2",
   "language": "julia",
   "name": "julia-1.4"
  },
  "language_info": {
   "file_extension": ".jl",
   "mimetype": "application/julia",
   "name": "julia",
   "version": "1.4.2"
  }
 },
 "nbformat": 4,
 "nbformat_minor": 4
}
