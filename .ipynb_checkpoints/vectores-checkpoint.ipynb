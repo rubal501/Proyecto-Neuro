{
 "cells": [
  {
   "cell_type": "code",
   "execution_count": null,
   "metadata": {},
   "outputs": [],
   "source": [
    "using Blink\n",
    "\n",
    "include(\"code/funciones_red.jl\")\n",
    "include(\"code/func_DistMat.jl\")\n",
    "include(\"code/func_experimenta.jl\")\n",
    "include(\"code/training_data.jl\")"
   ]
  },
  {
   "cell_type": "code",
   "execution_count": null,
   "metadata": {},
   "outputs": [],
   "source": [
    "tamanos = [[784,30,10],[784, 50, 50, 50, 10], [784, 300, 10], [784, 12, 12, 12, 12, 12, 10]] \n",
    "\n",
    "nombres = [ \"experimento_\" * string(i) for i in 1:length(tamanos) ]\n",
    "red_salvada = recuperar_red(tamanos[1], nombres[1],7)\n",
    "experimento_preentrenado(red_salvada, 20, nombres[1] )\n"
   ]
  },
  {
   "cell_type": "code",
   "execution_count": null,
   "metadata": {},
   "outputs": [],
   "source": []
  }
 ],
 "metadata": {
  "kernelspec": {
   "display_name": "Julia 1.4.2",
   "language": "julia",
   "name": "julia-1.4"
  },
  "language_info": {
   "file_extension": ".jl",
   "mimetype": "application/julia",
   "name": "julia",
   "version": "1.4.2"
  }
 },
 "nbformat": 4,
 "nbformat_minor": 4
}
